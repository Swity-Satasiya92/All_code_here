{
 "cells": [
  {
   "cell_type": "code",
   "execution_count": 1,
   "metadata": {},
   "outputs": [
    {
     "name": "stdout",
     "output_type": "stream",
     "text": [
      "a\n"
     ]
    }
   ],
   "source": [
    "a = 'a'\n",
    "print(a)"
   ]
  },
  {
   "cell_type": "code",
   "execution_count": 5,
   "metadata": {},
   "outputs": [
    {
     "name": "stdout",
     "output_type": "stream",
     "text": [
      "The original list is : 1 5 6 7 8 \r\n",
      "The modified list after setitem() is : 1 5 6 6 8 \r\n"
     ]
    }
   ],
   "source": [
    "import operator\n",
    "\n",
    "# Initializing list\n",
    "li = [1, 5, 6, 7, 8]\n",
    "\n",
    "# printing original list\n",
    "print (\"The original list is : \",end=\"\")\n",
    "for i in range(0,len(li)):\n",
    "\tprint (li[i],end=\" \")\n",
    "\n",
    "print (\"\\r\")\n",
    "\n",
    "# using setitem() to assign 3 at 4th position\n",
    "operator.setitem(li,3,6)\n",
    "\n",
    "# printing modified list after setitem()\n",
    "print (\"The modified list after setitem() is : \",end=\"\")\n",
    "for i in range(0,len(li)):\n",
    "\tprint (li[i],end=\" \")\n",
    "\n",
    "print (\"\\r\")"
   ]
  },
  {
   "cell_type": "code",
   "execution_count": 7,
   "metadata": {},
   "outputs": [
    {
     "name": "stdout",
     "output_type": "stream",
     "text": [
      "t\n",
      "abc\n",
      "b\n",
      "cdg\n",
      "c\n",
      "afv\n",
      "d\n",
      "jyu\n"
     ]
    }
   ],
   "source": [
    "a = {'t':'abc','b':'cdg','c':'afv','d':'jyu'}\n",
    "\n",
    "for f,y in a.copy().items():\n",
    "    print(f)\n",
    "    print(y)"
   ]
  },
  {
   "cell_type": "code",
   "execution_count": 12,
   "metadata": {},
   "outputs": [
    {
     "name": "stdout",
     "output_type": "stream",
     "text": [
      "cvvfcv\n",
      "cvvfcv\n",
      "4 equals 2 & 2\n",
      "cvvfcv\n"
     ]
    }
   ],
   "source": [
    "for  n in range(2,6):\n",
    "    for x in range(2,n):\n",
    "        if n % x == 0:\n",
    "            print(n, 'equals',x,'&',n//x)\n",
    "            break\n",
    "    else:\n",
    "        print(\"cvvfcv\")"
   ]
  },
  {
   "cell_type": "code",
   "execution_count": 4,
   "metadata": {},
   "outputs": [
    {
     "name": "stdout",
     "output_type": "stream",
     "text": [
      "7\n"
     ]
    }
   ],
   "source": [
    "i = 7\n",
    "\n",
    "def f(U = i):\n",
    "    print(U)\n",
    "    \n",
    "\n",
    "f()\n",
    "        "
   ]
  },
  {
   "cell_type": "code",
   "execution_count": 7,
   "metadata": {},
   "outputs": [
    {
     "name": "stdout",
     "output_type": "stream",
     "text": [
      "-- This parrot wouldn't voom if you put 100 volts through it.\n",
      "-- Lovely plumage, the Norwegian Blue\n",
      "-- It's a stiff !\n"
     ]
    }
   ],
   "source": [
    "def parrot(voltage, state='a stiff', action='voom', type='Norwegian Blue'):\n",
    "    print(\"-- This parrot wouldn't\", action, end=' ')\n",
    "    print(\"if you put\", voltage, \"volts through it.\")\n",
    "    print(\"-- Lovely plumage, the\", type)\n",
    "    print(\"-- It's\", state, \"!\")\n",
    "    \n",
    "parrot(voltage = 100)"
   ]
  },
  {
   "cell_type": "code",
   "execution_count": 8,
   "metadata": {},
   "outputs": [
    {
     "ename": "SyntaxError",
     "evalue": "invalid syntax (<ipython-input-8-78058b0a5564>, line 4)",
     "output_type": "error",
     "traceback": [
      "\u001b[0;36m  File \u001b[0;32m\"<ipython-input-8-78058b0a5564>\"\u001b[0;36m, line \u001b[0;32m4\u001b[0m\n\u001b[0;31m    def pos_only_arg(arg, /):\u001b[0m\n\u001b[0m                          ^\u001b[0m\n\u001b[0;31mSyntaxError\u001b[0m\u001b[0;31m:\u001b[0m invalid syntax\n"
     ]
    }
   ],
   "source": [
    "def standard_arg(arg):\n",
    "    print(arg)\n",
    "\n",
    "def pos_only_arg(arg, /):\n",
    "    print(arg)\n",
    "\n",
    "def kwd_only_arg(*, arg):\n",
    "    print(arg)\n",
    "\n",
    "def combined_example(pos_only, /, standard, *, kwd_only):\n",
    "    print(pos_only, standard, kwd_only)"
   ]
  },
  {
   "cell_type": "code",
   "execution_count": 13,
   "metadata": {},
   "outputs": [
    {
     "name": "stdout",
     "output_type": "stream",
     "text": [
      "-- This parrot wouldn't VOOM\n",
      "if you put four million volts through it.\n",
      "E's bleedin' demised !\n"
     ]
    }
   ],
   "source": [
    "def parrot(voltage, state='a stiff', action='voom'):\n",
    "    print(\"-- This parrot wouldn't\", action, end='\\n')\n",
    "    print(\"if you put\", voltage, \"volts through it.\", end='\\n')\n",
    "    print(\"E's\", state, \"!\")\n",
    "\n",
    "d = {\"voltage\": \"four million\", \"state\": \"bleedin' demised\", \"action\": \"VOOM\"}\n",
    "parrot(**d)\n"
   ]
  },
  {
   "cell_type": "code",
   "execution_count": 19,
   "metadata": {},
   "outputs": [
    {
     "data": {
      "text/plain": [
       "32"
      ]
     },
     "execution_count": 19,
     "metadata": {},
     "output_type": "execute_result"
    }
   ],
   "source": [
    "def incre(n):\n",
    "    return lambda x : x + n \n",
    "\n",
    "f = incre (30)\n",
    "f(2)"
   ]
  },
  {
   "cell_type": "code",
   "execution_count": 25,
   "metadata": {},
   "outputs": [
    {
     "name": "stdout",
     "output_type": "stream",
     "text": [
      "<function f at 0x7fcd140ff840>\n"
     ]
    }
   ],
   "source": [
    "def f():\n",
    "    \"\"\" DO NOTHING, BUT.\n",
    "    \n",
    "    no, really, it .\n",
    "    \"\"\"\n",
    "    pass\n",
    "\n",
    "print(f.__doc__)\n",
    "    "
   ]
  },
  {
   "cell_type": "code",
   "execution_count": 34,
   "metadata": {},
   "outputs": [
    {
     "name": "stdout",
     "output_type": "stream",
     "text": [
      "[3]\n"
     ]
    }
   ],
   "source": [
    "def digit(n):\n",
    "    dsum = 0\n",
    "    for ele in str(n):\n",
    "        dsum += int(ele)\n",
    "        return dsum\n",
    "    \n",
    "List = [34,56,3464,35]\n",
    "\n",
    "newlist = [digit(i) for i in List if i & 1]\n",
    "print(newlist)"
   ]
  },
  {
   "cell_type": "code",
   "execution_count": 24,
   "metadata": {},
   "outputs": [
    {
     "name": "stdout",
     "output_type": "stream",
     "text": [
      "34\n",
      "35\n"
     ]
    }
   ],
   "source": [
    "for i in List:\n",
    "    if i & 3:\n",
    "        print(i)"
   ]
  },
  {
   "cell_type": "code",
   "execution_count": 21,
   "metadata": {},
   "outputs": [
    {
     "name": "stdout",
     "output_type": "stream",
     "text": [
      "34\n",
      "56\n",
      "3464\n",
      "35\n"
     ]
    }
   ],
   "source": [
    "for i in List:\n",
    "    print(i)"
   ]
  },
  {
   "cell_type": "code",
   "execution_count": 33,
   "metadata": {},
   "outputs": [
    {
     "name": "stdout",
     "output_type": "stream",
     "text": [
      "0\n"
     ]
    }
   ],
   "source": [
    "a = 6\n",
    "print(a & 1)"
   ]
  },
  {
   "cell_type": "code",
   "execution_count": 41,
   "metadata": {},
   "outputs": [
    {
     "name": "stdout",
     "output_type": "stream",
     "text": [
      "a\n",
      "j\n",
      "k\n",
      "k\n",
      "v\n",
      "j\n",
      "d\n",
      "f\n",
      "f\n"
     ]
    }
   ],
   "source": [
    "for l in 'aesjkeksvjdfefe':\n",
    "    if l == 'e' or l == 's':\n",
    "        continue\n",
    "    print(l)"
   ]
  },
  {
   "cell_type": "code",
   "execution_count": 47,
   "metadata": {},
   "outputs": [
    {
     "name": "stdout",
     "output_type": "stream",
     "text": [
      "e\n"
     ]
    }
   ],
   "source": [
    "for i in 'eajdeirfhrfver':\n",
    "    if i == 'e' or i == 'r':\n",
    "        break\n",
    "print(i)"
   ]
  },
  {
   "cell_type": "code",
   "execution_count": 54,
   "metadata": {},
   "outputs": [
    {
     "name": "stdout",
     "output_type": "stream",
     "text": [
      "v\n"
     ]
    }
   ],
   "source": [
    "for i in 'ffbgkjefvfbv':\n",
    "    pass \n",
    "print(i)"
   ]
  },
  {
   "cell_type": "code",
   "execution_count": 58,
   "metadata": {},
   "outputs": [
    {
     "name": "stdout",
     "output_type": "stream",
     "text": [
      "0 1 2 3 4 5 6 7 8 9 45\n"
     ]
    }
   ],
   "source": [
    "for i in range(10):\n",
    "    print(i, end=\" \")\n",
    "    \n",
    "sum = 0\n",
    "for i in range(1,10):\n",
    "    sum = sum + i\n",
    "print(sum)"
   ]
  },
  {
   "cell_type": "code",
   "execution_count": 60,
   "metadata": {},
   "outputs": [
    {
     "name": "stdout",
     "output_type": "stream",
     "text": [
      "1\n",
      "2\n",
      "3\n",
      "4\n",
      "no brkcdf\n"
     ]
    }
   ],
   "source": [
    "i = 0\n",
    "while i <4:\n",
    "    i +=1\n",
    "    print(i)\n",
    "#     break\n",
    "else:\n",
    "    print(\"no brkcdf\")"
   ]
  },
  {
   "cell_type": "code",
   "execution_count": 68,
   "metadata": {},
   "outputs": [
    {
     "name": "stdout",
     "output_type": "stream",
     "text": [
      "enter num:\n"
     ]
    },
    {
     "ename": "ValueError",
     "evalue": "invalid literal for int() with base 10: ''",
     "output_type": "error",
     "traceback": [
      "\u001b[0;31m---------------------------------------------------------------------------\u001b[0m",
      "\u001b[0;31mValueError\u001b[0m                                Traceback (most recent call last)",
      "\u001b[0;32m<ipython-input-68-6554ce30bb3e>\u001b[0m in \u001b[0;36m<module>\u001b[0;34m\u001b[0m\n\u001b[0;32m----> 1\u001b[0;31m \u001b[0ma\u001b[0m \u001b[0;34m=\u001b[0m \u001b[0mint\u001b[0m\u001b[0;34m(\u001b[0m\u001b[0minput\u001b[0m\u001b[0;34m(\u001b[0m\u001b[0;34m\"enter num:\"\u001b[0m\u001b[0;34m)\u001b[0m\u001b[0;34m)\u001b[0m\u001b[0;34m\u001b[0m\u001b[0;34m\u001b[0m\u001b[0m\n\u001b[0m\u001b[1;32m      2\u001b[0m \u001b[0;34m\u001b[0m\u001b[0m\n\u001b[1;32m      3\u001b[0m \u001b[0;32mwhile\u001b[0m \u001b[0ma\u001b[0m \u001b[0;34m!=\u001b[0m \u001b[0;34m-\u001b[0m\u001b[0;36m1\u001b[0m\u001b[0;34m:\u001b[0m\u001b[0;34m\u001b[0m\u001b[0;34m\u001b[0m\u001b[0m\n\u001b[1;32m      4\u001b[0m     \u001b[0ma\u001b[0m \u001b[0;34m=\u001b[0m \u001b[0mint\u001b[0m\u001b[0;34m(\u001b[0m\u001b[0minput\u001b[0m\u001b[0;34m(\u001b[0m\u001b[0;34m'ejmffbv'\u001b[0m\u001b[0;34m)\u001b[0m\u001b[0;34m)\u001b[0m\u001b[0;34m\u001b[0m\u001b[0;34m\u001b[0m\u001b[0m\n",
      "\u001b[0;31mValueError\u001b[0m: invalid literal for int() with base 10: ''"
     ]
    }
   ],
   "source": [
    "a = int(input(\"enter num:\"))\n",
    "\n",
    "while a != -1:\n",
    "    a = int(input('ejmffbv'))"
   ]
  },
  {
   "cell_type": "code",
   "execution_count": 69,
   "metadata": {},
   "outputs": [
    {
     "name": "stdout",
     "output_type": "stream",
     "text": [
      "f\n"
     ]
    }
   ],
   "source": [
    "s = 'fvbgfgbvgfbhhgvb'\n",
    "for l in s:\n",
    "    print(l)\n",
    "    \n",
    "    if l == 'e' or l == 'f':\n",
    "        break\n",
    "        "
   ]
  },
  {
   "cell_type": "code",
   "execution_count": 71,
   "metadata": {},
   "outputs": [
    {
     "name": "stdout",
     "output_type": "stream",
     "text": [
      "dffdfvdfvf"
     ]
    }
   ],
   "source": [
    "for i,e in enumerate(['dff','dfvd','fvf']):\n",
    "    print(e,end='')"
   ]
  },
  {
   "cell_type": "code",
   "execution_count": 80,
   "metadata": {
    "scrolled": true
   },
   "outputs": [
    {
     "name": "stdout",
     "output_type": "stream",
     "text": [
      "what is your w ? am r.\n",
      "what is your r ? am u.\n",
      "what is your f ? am rf.\n"
     ]
    }
   ],
   "source": [
    "a = ['w','r','f']\n",
    "r = ['r','u','rf']\n",
    "\n",
    "for c,n in zip(a,r):\n",
    "    print('what is your {0} ? am {1}.'.format(c,n))\n"
   ]
  },
  {
   "cell_type": "code",
   "execution_count": 5,
   "metadata": {},
   "outputs": [
    {
     "data": {
      "text/plain": [
       "7"
      ]
     },
     "execution_count": 5,
     "metadata": {},
     "output_type": "execute_result"
    }
   ],
   "source": [
    "def funn(num1:int,num2:int):\n",
    "    num3 = num1 + num2\n",
    "    return num3 \n",
    "\n",
    "\n",
    "\n",
    "a = 2\n",
    "b = 5\n",
    "funn(a,b)"
   ]
  },
  {
   "cell_type": "code",
   "execution_count": 12,
   "metadata": {},
   "outputs": [
    {
     "name": "stdout",
     "output_type": "stream",
     "text": [
      "False False\n"
     ]
    }
   ],
   "source": [
    "def prime(n):\n",
    "    if n in [2,3]:\n",
    "        return True\n",
    "    if (n==1) or (n %2 == 0):\n",
    "        return False\n",
    "    \n",
    "\n",
    "\n",
    "print(prime(34),prime(46))"
   ]
  },
  {
   "cell_type": "code",
   "execution_count": 13,
   "metadata": {},
   "outputs": [
    {
     "name": "stdout",
     "output_type": "stream",
     "text": [
      "sdd\n",
      "fv\n",
      "dx\n"
     ]
    }
   ],
   "source": [
    "def myfunb(*ar):\n",
    "    for af in ar:\n",
    "        print(af)\n",
    "        \n",
    "myfunb('sdd','fv','dx')"
   ]
  },
  {
   "cell_type": "code",
   "execution_count": 15,
   "metadata": {},
   "outputs": [
    {
     "name": "stdout",
     "output_type": "stream",
     "text": [
      "first fv\n",
      "sewconf fffv\n",
      "dfik dfffd\n"
     ]
    }
   ],
   "source": [
    "def myfun(**dfg):\n",
    "    for key,value in dfg.items():\n",
    "        print(key,value)\n",
    "        \n",
    "myfun(first='fv',sewconf ='fffv',dfik = 'dfffd')"
   ]
  },
  {
   "cell_type": "code",
   "execution_count": 18,
   "metadata": {},
   "outputs": [
    {
     "ename": "TypeError",
     "evalue": "'str' object is not callable",
     "output_type": "error",
     "traceback": [
      "\u001b[0;31m---------------------------------------------------------------------------\u001b[0m",
      "\u001b[0;31mTypeError\u001b[0m                                 Traceback (most recent call last)",
      "\u001b[0;32m<ipython-input-18-d4d74d237d6b>\u001b[0m in \u001b[0;36m<module>\u001b[0;34m\u001b[0m\n\u001b[1;32m      9\u001b[0m \u001b[0;34m\u001b[0m\u001b[0m\n\u001b[1;32m     10\u001b[0m \u001b[0;31m# Driver code to call the function\u001b[0m\u001b[0;34m\u001b[0m\u001b[0;34m\u001b[0m\u001b[0;34m\u001b[0m\u001b[0m\n\u001b[0;32m---> 11\u001b[0;31m \u001b[0mprint\u001b[0m\u001b[0;34m(\u001b[0m\u001b[0mevenOdd\u001b[0m\u001b[0;34m.\u001b[0m\u001b[0m__doc__\u001b[0m\u001b[0;34m(\u001b[0m\u001b[0;36m4\u001b[0m\u001b[0;34m)\u001b[0m\u001b[0;34m)\u001b[0m\u001b[0;34m\u001b[0m\u001b[0;34m\u001b[0m\u001b[0m\n\u001b[0m",
      "\u001b[0;31mTypeError\u001b[0m: 'str' object is not callable"
     ]
    }
   ],
   "source": [
    "def evenOdd(x : int):\n",
    "    \"\"\"Function to check if the number is even or odd\"\"\"\n",
    "     \n",
    "    if (x % 2 == 0):\n",
    "        print(\"even\")\n",
    "    else:\n",
    "        print(\"odd\")\n",
    " \n",
    " \n",
    "# Driver code to call the function\n",
    "print(evenOdd.__doc__(4))"
   ]
  },
  {
   "cell_type": "code",
   "execution_count": 21,
   "metadata": {},
   "outputs": [
    {
     "name": "stdout",
     "output_type": "stream",
     "text": [
      "3\n",
      "5\n",
      "5\n",
      "3\n"
     ]
    }
   ],
   "source": [
    "def swap(x, y):\n",
    "    temp = x\n",
    "    x = y\n",
    "    y = temp\n",
    "    print(x)\n",
    "    print(y)\n",
    " \n",
    "\n",
    "x = 5\n",
    "y = 3\n",
    "swap(x, y)\n",
    "print(x)\n",
    "print(y)"
   ]
  },
  {
   "cell_type": "code",
   "execution_count": 24,
   "metadata": {},
   "outputs": [
    {
     "name": "stdout",
     "output_type": "stream",
     "text": [
      "arg1: 2\n",
      "arg2: 4\n",
      "arg3: 5\n"
     ]
    }
   ],
   "source": [
    "def myFun(arg1, arg2, arg3):\n",
    "    print(\"arg1:\", arg1)\n",
    "    print(\"arg2:\", arg2)\n",
    "    print(\"arg3:\", arg3)\n",
    " \n",
    "\n",
    "args = [2,4,5]\n",
    "myFun(*args)"
   ]
  },
  {
   "cell_type": "code",
   "execution_count": 36,
   "metadata": {},
   "outputs": [
    {
     "name": "stdout",
     "output_type": "stream",
     "text": [
      "1\n"
     ]
    }
   ],
   "source": [
    "def fun():\n",
    "    return '1'\n",
    "    return '2'\n",
    "\n",
    "for val in fun():\n",
    "    print(val)"
   ]
  },
  {
   "cell_type": "code",
   "execution_count": 37,
   "metadata": {},
   "outputs": [
    {
     "name": "stdout",
     "output_type": "stream",
     "text": [
      "Python is great! GFG\n",
      "Look for Geeksforgeeks Python Section\n",
      "Look for Geeksforgeeks Python Section\n"
     ]
    }
   ],
   "source": [
    "def f():\n",
    "    global s\n",
    "    s += ' GFG'\n",
    "    print(s)\n",
    "    s = \"Look for Geeksforgeeks Python Section\"\n",
    "    print(s) \n",
    "\n",
    "s = \"Python is great!\" \n",
    "f()\n",
    "print(s)"
   ]
  },
  {
   "cell_type": "code",
   "execution_count": 38,
   "metadata": {},
   "outputs": [
    {
     "data": {
      "text/plain": [
       "'ggjkb jfgbgj  fgjg'"
      ]
     },
     "execution_count": 38,
     "metadata": {},
     "output_type": "execute_result"
    }
   ],
   "source": [
    "def shout(var):\n",
    "    return var.lower()\n",
    "\n",
    "def d(func):\n",
    "    a = func(\"ggjkb jfgbgj  fgjg\")\n",
    "    return a \n",
    "\n",
    "d(shout)"
   ]
  },
  {
   "cell_type": "code",
   "execution_count": 39,
   "metadata": {},
   "outputs": [
    {
     "name": "stdout",
     "output_type": "stream",
     "text": [
      "100\n"
     ]
    }
   ],
   "source": [
    "def  fun1(x):\n",
    "    def fun2(y):\n",
    "        return x+y\n",
    "    return fun2\n",
    "\n",
    "aa = fun1(23)\n",
    "\n",
    "print(aa(77))"
   ]
  },
  {
   "cell_type": "code",
   "execution_count": 48,
   "metadata": {},
   "outputs": [
    {
     "name": "stdout",
     "output_type": "stream",
     "text": [
      "hey!\n"
     ]
    }
   ],
   "source": [
    "def fun1(text):\n",
    "    def fun2():\n",
    "            print(text)\n",
    "    fun2()\n",
    "\n",
    "if __name__ == '__main__':\n",
    "    fun1('hey!')\n"
   ]
  },
  {
   "cell_type": "code",
   "execution_count": 49,
   "metadata": {},
   "outputs": [
    {
     "name": "stdout",
     "output_type": "stream",
     "text": [
      "Hello, this is before function execution\n",
      "This is inside the function !!\n",
      "This is after function execution\n"
     ]
    }
   ],
   "source": [
    "def hello_decorator(func):\n",
    "    def inner1():\n",
    "        print(\"Hello, this is before function execution\")\n",
    "        func()\n",
    " \n",
    "        print(\"This is after function execution\")\n",
    "         \n",
    "    return inner1\n",
    "\n",
    "def function_to_be_used():\n",
    "    print(\"This is inside the function !!\")\n",
    "\n",
    "function_to_be_used = hello_decorator(function_to_be_used)\n",
    " \n",
    " \n",
    "# calling the function\n",
    "function_to_be_used()"
   ]
  },
  {
   "cell_type": "code",
   "execution_count": 54,
   "metadata": {},
   "outputs": [
    {
     "name": "stdout",
     "output_type": "stream",
     "text": [
      "3628800\n",
      "Total time taken in :  factorial 2.002274513244629\n"
     ]
    }
   ],
   "source": [
    "# importing libraries\n",
    "import time\n",
    "import math\n",
    "\n",
    "def calculate_time(func):\n",
    "\n",
    "    def inner1(*args, **kwargs):\n",
    "\n",
    "        begin = time.time()\n",
    "         \n",
    "        func(*args, **kwargs)\n",
    "\n",
    "        end = time.time()\n",
    "        print(\"Total time taken in : \", func.__name__, end - begin)\n",
    " \n",
    "    return inner1\n",
    "\n",
    "@calculate_time\n",
    "def factorial(num):\n",
    "\n",
    "    time.sleep(2)\n",
    "    print(math.factorial(num))\n",
    "factorial(10)"
   ]
  },
  {
   "cell_type": "code",
   "execution_count": 55,
   "metadata": {},
   "outputs": [
    {
     "name": "stdout",
     "output_type": "stream",
     "text": [
      "400\n",
      "200\n"
     ]
    }
   ],
   "source": [
    "def decor1(func):\n",
    "    def inner():\n",
    "        x = func()\n",
    "        return x * x\n",
    "    return inner\n",
    " \n",
    "def decor(func):\n",
    "    def inner():\n",
    "        x = func()\n",
    "        return 2 * x\n",
    "    return inner\n",
    " \n",
    "@decor1\n",
    "@decor\n",
    "def num():\n",
    "    return 10\n",
    " \n",
    "@decor\n",
    "@decor1\n",
    "def num2():\n",
    "    return 10\n",
    "   \n",
    "print(num())\n",
    "print(num2())"
   ]
  },
  {
   "cell_type": "code",
   "execution_count": 56,
   "metadata": {},
   "outputs": [
    {
     "name": "stdout",
     "output_type": "stream",
     "text": [
      "Inside decorator\n",
      "Inside inner function\n",
      "Decorated the function\n",
      "Inside actual function\n"
     ]
    }
   ],
   "source": [
    "def decorator_fun(func):\n",
    "    print(\"Inside decorator\")\n",
    "    def inner(*args,**kwargs):\n",
    "        print(\"Inside inner function\")\n",
    "        print(\"Decorated the function\")\n",
    "        # do operations with func\n",
    "        func()\n",
    "    return inner()\n",
    "@decorator_fun\n",
    "def func_to():\n",
    "    print(\"Inside actual function\")\n",
    "func_to"
   ]
  },
  {
   "cell_type": "code",
   "execution_count": 59,
   "metadata": {},
   "outputs": [
    {
     "name": "stdout",
     "output_type": "stream",
     "text": [
      "I like Geeksforgeeks\n",
      "Summation of values - 27\n",
      "Geeks\n",
      "for\n",
      "Geeks\n"
     ]
    }
   ],
   "source": [
    "def decorator_func(x, y):\n",
    " \n",
    "    def Inner(func):\n",
    " \n",
    "        def wrapper(*args, **kwargs):\n",
    "            print(\"I like Geeksforgeeks\")\n",
    "            print(\"Summation of values - {}\".format(x+y) )\n",
    " \n",
    "            func(*args, **kwargs)\n",
    "             \n",
    "        return wrapper\n",
    "    return Inner\n",
    " \n",
    " \n",
    "\n",
    "def my_fun(*args):\n",
    "    for ele in args:\n",
    "        print(ele)\n",
    " \n",
    "\n",
    "decorator_func(12, 15)(my_fun)('Geeks', 'for', 'Geeks')"
   ]
  },
  {
   "cell_type": "code",
   "execution_count": null,
   "metadata": {},
   "outputs": [],
   "source": [
    "\n",
    "\n",
    "\n"
   ]
  },
  {
   "cell_type": "code",
   "execution_count": null,
   "metadata": {},
   "outputs": [],
   "source": []
  },
  {
   "cell_type": "code",
   "execution_count": null,
   "metadata": {},
   "outputs": [],
   "source": []
  }
 ],
 "metadata": {
  "kernelspec": {
   "display_name": "Python 3",
   "language": "python",
   "name": "python3"
  },
  "language_info": {
   "codemirror_mode": {
    "name": "ipython",
    "version": 3
   },
   "file_extension": ".py",
   "mimetype": "text/x-python",
   "name": "python",
   "nbconvert_exporter": "python",
   "pygments_lexer": "ipython3",
   "version": "3.7.3"
  }
 },
 "nbformat": 4,
 "nbformat_minor": 2
}
